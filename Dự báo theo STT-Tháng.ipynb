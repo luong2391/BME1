{
 "cells": [
  {
   "cell_type": "code",
   "execution_count": 124,
   "id": "825aef06",
   "metadata": {},
   "outputs": [],
   "source": [
    "import matplotlib.pyplot as plt\n",
    "import pandas as pd\n",
    "import numpy as np\n"
   ]
  },
  {
   "cell_type": "code",
   "execution_count": 125,
   "id": "232fd577",
   "metadata": {},
   "outputs": [
    {
     "data": {
      "text/html": [
       "<div>\n",
       "<style scoped>\n",
       "    .dataframe tbody tr th:only-of-type {\n",
       "        vertical-align: middle;\n",
       "    }\n",
       "\n",
       "    .dataframe tbody tr th {\n",
       "        vertical-align: top;\n",
       "    }\n",
       "\n",
       "    .dataframe thead th {\n",
       "        text-align: right;\n",
       "    }\n",
       "</style>\n",
       "<table border=\"1\" class=\"dataframe\">\n",
       "  <thead>\n",
       "    <tr style=\"text-align: right;\">\n",
       "      <th></th>\n",
       "      <th>Index</th>\n",
       "      <th>Time</th>\n",
       "      <th>10ml</th>\n",
       "      <th>5ml</th>\n",
       "    </tr>\n",
       "  </thead>\n",
       "  <tbody>\n",
       "    <tr>\n",
       "      <th>0</th>\n",
       "      <td>1</td>\n",
       "      <td>2021-1</td>\n",
       "      <td>1793989380</td>\n",
       "      <td>3840353601</td>\n",
       "    </tr>\n",
       "    <tr>\n",
       "      <th>1</th>\n",
       "      <td>2</td>\n",
       "      <td>2021-2</td>\n",
       "      <td>1766032057</td>\n",
       "      <td>3065540847</td>\n",
       "    </tr>\n",
       "    <tr>\n",
       "      <th>2</th>\n",
       "      <td>3</td>\n",
       "      <td>2021-3</td>\n",
       "      <td>2217391310</td>\n",
       "      <td>4566314847</td>\n",
       "    </tr>\n",
       "    <tr>\n",
       "      <th>3</th>\n",
       "      <td>4</td>\n",
       "      <td>2021-4</td>\n",
       "      <td>2471989078</td>\n",
       "      <td>4077650862</td>\n",
       "    </tr>\n",
       "    <tr>\n",
       "      <th>4</th>\n",
       "      <td>5</td>\n",
       "      <td>2021-5</td>\n",
       "      <td>2957193632</td>\n",
       "      <td>5772236010</td>\n",
       "    </tr>\n",
       "    <tr>\n",
       "      <th>5</th>\n",
       "      <td>6</td>\n",
       "      <td>2021-6</td>\n",
       "      <td>341223120</td>\n",
       "      <td>118125000</td>\n",
       "    </tr>\n",
       "    <tr>\n",
       "      <th>6</th>\n",
       "      <td>7</td>\n",
       "      <td>2021-7</td>\n",
       "      <td>60112597</td>\n",
       "      <td>97422260</td>\n",
       "    </tr>\n",
       "    <tr>\n",
       "      <th>7</th>\n",
       "      <td>8</td>\n",
       "      <td>2021-8</td>\n",
       "      <td>61222329</td>\n",
       "      <td>34542501</td>\n",
       "    </tr>\n",
       "    <tr>\n",
       "      <th>8</th>\n",
       "      <td>9</td>\n",
       "      <td>2021-9</td>\n",
       "      <td>91026881</td>\n",
       "      <td>37934631</td>\n",
       "    </tr>\n",
       "    <tr>\n",
       "      <th>9</th>\n",
       "      <td>10</td>\n",
       "      <td>2021-10</td>\n",
       "      <td>176393158</td>\n",
       "      <td>33550010</td>\n",
       "    </tr>\n",
       "    <tr>\n",
       "      <th>10</th>\n",
       "      <td>11</td>\n",
       "      <td>2021-11</td>\n",
       "      <td>187556284</td>\n",
       "      <td>86206008</td>\n",
       "    </tr>\n",
       "    <tr>\n",
       "      <th>11</th>\n",
       "      <td>12</td>\n",
       "      <td>2021-12</td>\n",
       "      <td>72740409</td>\n",
       "      <td>65277009</td>\n",
       "    </tr>\n",
       "    <tr>\n",
       "      <th>12</th>\n",
       "      <td>13</td>\n",
       "      <td>2022-1</td>\n",
       "      <td>126224028</td>\n",
       "      <td>109372505</td>\n",
       "    </tr>\n",
       "    <tr>\n",
       "      <th>13</th>\n",
       "      <td>14</td>\n",
       "      <td>2022-2</td>\n",
       "      <td>13180310</td>\n",
       "      <td>32819252</td>\n",
       "    </tr>\n",
       "    <tr>\n",
       "      <th>14</th>\n",
       "      <td>15</td>\n",
       "      <td>2022-3</td>\n",
       "      <td>49714220</td>\n",
       "      <td>53440001</td>\n",
       "    </tr>\n",
       "  </tbody>\n",
       "</table>\n",
       "</div>"
      ],
      "text/plain": [
       "    Index     Time        10ml         5ml\n",
       "0       1   2021-1  1793989380  3840353601\n",
       "1       2   2021-2  1766032057  3065540847\n",
       "2       3   2021-3  2217391310  4566314847\n",
       "3       4   2021-4  2471989078  4077650862\n",
       "4       5   2021-5  2957193632  5772236010\n",
       "5       6   2021-6   341223120   118125000\n",
       "6       7   2021-7    60112597    97422260\n",
       "7       8   2021-8    61222329    34542501\n",
       "8       9   2021-9    91026881    37934631\n",
       "9      10  2021-10   176393158    33550010\n",
       "10     11  2021-11   187556284    86206008\n",
       "11     12  2021-12    72740409    65277009\n",
       "12     13   2022-1   126224028   109372505\n",
       "13     14   2022-2    13180310    32819252\n",
       "14     15   2022-3    49714220    53440001"
      ]
     },
     "execution_count": 125,
     "metadata": {},
     "output_type": "execute_result"
    }
   ],
   "source": [
    "dataset = pd.read_csv('Month.csv')\n",
    "X = dataset.iloc[:, :1].values\n",
    "y = dataset.iloc[:, 2].values\n",
    "X,\n",
    "#y,\n",
    "dataset"
   ]
  },
  {
   "cell_type": "code",
   "execution_count": 126,
   "id": "55ac5510",
   "metadata": {},
   "outputs": [
    {
     "data": {
      "text/plain": [
       "array([[ 1],\n",
       "       [ 2],\n",
       "       [ 3],\n",
       "       [ 4],\n",
       "       [ 5],\n",
       "       [ 6],\n",
       "       [ 7],\n",
       "       [ 8],\n",
       "       [ 9],\n",
       "       [10],\n",
       "       [11],\n",
       "       [12],\n",
       "       [13],\n",
       "       [14],\n",
       "       [15]], dtype=int64)"
      ]
     },
     "execution_count": 126,
     "metadata": {},
     "output_type": "execute_result"
    }
   ],
   "source": [
    "X"
   ]
  },
  {
   "cell_type": "code",
   "execution_count": 127,
   "id": "d70d6aca",
   "metadata": {},
   "outputs": [
    {
     "data": {
      "text/plain": [
       "array([1793989380, 1766032057, 2217391310, 2471989078, 2957193632,\n",
       "        341223120,   60112597,   61222329,   91026881,  176393158,\n",
       "        187556284,   72740409,  126224028,   13180310,   49714220],\n",
       "      dtype=int64)"
      ]
     },
     "execution_count": 127,
     "metadata": {},
     "output_type": "execute_result"
    }
   ],
   "source": [
    "y"
   ]
  },
  {
   "cell_type": "code",
   "execution_count": 130,
   "id": "7005d4b0",
   "metadata": {},
   "outputs": [],
   "source": [
    "from sklearn.model_selection import train_test_split\n",
    "X_train, X_test, y_train, y_test = train_test_split(X, y, test_size = 1/3, random_state = 2)"
   ]
  },
  {
   "cell_type": "code",
   "execution_count": 131,
   "id": "913b9f5a",
   "metadata": {},
   "outputs": [
    {
     "data": {
      "text/plain": [
       "array([[ 4],\n",
       "       [ 2],\n",
       "       [11],\n",
       "       [ 8],\n",
       "       [13],\n",
       "       [ 3],\n",
       "       [ 7],\n",
       "       [15],\n",
       "       [14],\n",
       "       [ 9]], dtype=int64)"
      ]
     },
     "execution_count": 131,
     "metadata": {},
     "output_type": "execute_result"
    }
   ],
   "source": [
    "X_train\n"
   ]
  },
  {
   "cell_type": "code",
   "execution_count": 135,
   "id": "f8706d84",
   "metadata": {},
   "outputs": [
    {
     "data": {
      "text/plain": [
       "(array([[12],\n",
       "        [ 5],\n",
       "        [ 6],\n",
       "        [ 1],\n",
       "        [10]], dtype=int64),\n",
       " array([  72740409, 2957193632,  341223120, 1793989380,  176393158],\n",
       "       dtype=int64))"
      ]
     },
     "execution_count": 135,
     "metadata": {},
     "output_type": "execute_result"
    }
   ],
   "source": [
    "X_test, y_test"
   ]
  },
  {
   "cell_type": "code",
   "execution_count": 136,
   "id": "970a683c",
   "metadata": {},
   "outputs": [
    {
     "data": {
      "text/plain": [
       "LinearRegression()"
      ]
     },
     "execution_count": 136,
     "metadata": {},
     "output_type": "execute_result"
    }
   ],
   "source": [
    "from sklearn.linear_model import LinearRegression\n",
    "regressor = LinearRegression()\n",
    "regressor.fit(X_train, y_train)"
   ]
  },
  {
   "cell_type": "code",
   "execution_count": 138,
   "id": "0841205d",
   "metadata": {},
   "outputs": [
    {
     "data": {
      "image/png": "[encoded data removed]",
      "text/plain": [
       "<Figure size 432x288 with 1 Axes>"
      ]
     },
     "metadata": {
      "needs_background": "light"
     },
     "output_type": "display_data"
    }
   ],
   "source": [
    "plt.scatter(X_train, y_train, color = 'red')\n",
    "\n",
    "plt.xlabel(\"Time\")\n",
    "plt.ylabel('giá')\n",
    "plt.ylim(0,3500000000)\n",
    "plt.xlim(0, 15)\n",
    "plt.show()\n"
   ]
  },
  {
   "cell_type": "code",
   "execution_count": 139,
   "id": "24b8ae3f",
   "metadata": {},
   "outputs": [
    {
     "data": {
      "text/plain": [
       "0.6481594074561279"
      ]
     },
     "execution_count": 139,
     "metadata": {},
     "output_type": "execute_result"
    }
   ],
   "source": [
    "regressor.score(X_train,y_train)"
   ]
  },
  {
   "cell_type": "code",
   "execution_count": 140,
   "id": "54fbb7b0",
   "metadata": {},
   "outputs": [
    {
     "data": {
      "text/plain": [
       "array([-1.75648097e+08])"
      ]
     },
     "execution_count": 140,
     "metadata": {},
     "output_type": "execute_result"
    }
   ],
   "source": [
    "regressor.coef_\n"
   ]
  },
  {
   "cell_type": "code",
   "execution_count": 141,
   "id": "1578a2f5",
   "metadata": {},
   "outputs": [
    {
     "data": {
      "text/plain": [
       "2215018540.39712"
      ]
     },
     "execution_count": 141,
     "metadata": {},
     "output_type": "execute_result"
    }
   ],
   "source": [
    "regressor.intercept_\n"
   ]
  },
  {
   "cell_type": "code",
   "execution_count": 145,
   "id": "e1334588",
   "metadata": {},
   "outputs": [
    {
     "data": {
      "text/plain": [
       "-68406720.60288"
      ]
     },
     "execution_count": 145,
     "metadata": {},
     "output_type": "execute_result"
    }
   ],
   "source": [
    "x = 13\n",
    "y = 2215018540.39712 + -1.75648097e+08* x\n",
    "y"
   ]
  },
  {
   "cell_type": "code",
   "execution_count": 143,
   "id": "3f2a9c83",
   "metadata": {},
   "outputs": [
    {
     "data": {
      "image/png": "[encoded data removed]",
      "text/plain": [
       "<Figure size 432x288 with 1 Axes>"
      ]
     },
     "metadata": {
      "needs_background": "light"
     },
     "output_type": "display_data"
    }
   ],
   "source": [
    "plt.scatter(X_train, y_train, color = 'red')\n",
    "plt.plot(X_train, regressor.predict(X_train), color = 'blue')\n",
    "plt.title('Train set')\n",
    "plt.xlabel(\"Time\")\n",
    "plt.ylabel('giá')\n",
    "plt.ylim(0,3500000000)\n",
    "plt.xlim(0, 15)\n",
    "plt.show()"
   ]
  },
  {
   "cell_type": "code",
   "execution_count": 137,
   "id": "97ad7fdf",
   "metadata": {},
   "outputs": [
    {
     "data": {
      "text/plain": [
       "array([1.07241381e+08, 1.33677806e+09, 1.16112996e+09, 2.03937044e+09,\n",
       "       4.58537574e+08])"
      ]
     },
     "execution_count": 137,
     "metadata": {},
     "output_type": "execute_result"
    }
   ],
   "source": [
    "y_pred = regressor.predict(X_test)\n",
    "y_pred\n"
   ]
  },
  {
   "cell_type": "code",
   "execution_count": null,
   "id": "1c75f0af",
   "metadata": {},
   "outputs": [],
   "source": []
  }
 ],
 "metadata": {
  "kernelspec": {
   "display_name": "Python 3 (ipykernel)",
   "language": "python",
   "name": "python3"
  },
  "language_info": {
   "codemirror_mode": {
    "name": "ipython",
    "version": 3
   },
   "file_extension": ".py",
   "mimetype": "text/x-python",
   "name": "python",
   "nbconvert_exporter": "python",
   "pygments_lexer": "ipython3",
   "version": "3.9.12"
  }
 },
 "nbformat": 4,
 "nbformat_minor": 5
}
