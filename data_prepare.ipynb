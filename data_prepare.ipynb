{
 "cells": [
  {
   "cell_type": "markdown",
   "id": "319ad232",
   "metadata": {},
   "source": [
    "# Set up data"
   ]
  },
  {
   "cell_type": "code",
   "execution_count": 2,
   "id": "38f68246",
   "metadata": {},
   "outputs": [],
   "source": [
    "import numpy as np\n",
    "import pandas as pd\n",
    "from pandas import DataFrame\n",
    "import matplotlib.pyplot as plt"
   ]
  },
  {
   "cell_type": "code",
   "execution_count": 7,
   "id": "7c0bc608",
   "metadata": {},
   "outputs": [
    {
     "name": "stdout",
     "output_type": "stream",
     "text": [
      "2\n"
     ]
    }
   ],
   "source": [
    "import numpy as np\n",
    "\n",
    "a = np.array([[2,3],[3,4]])\n",
    "\n",
    "c = a.shape[1]\n",
    "print(c)"
   ]
  },
  {
   "cell_type": "code",
   "execution_count": 6,
   "id": "d555a4fb",
   "metadata": {},
   "outputs": [],
   "source": [
    "data = pd.read_csv('data.csv').values\n",
    "N = data.shape[0]"
   ]
  },
  {
   "cell_type": "code",
   "execution_count": 4,
   "id": "836358cb",
   "metadata": {},
   "outputs": [
    {
     "data": {
      "text/plain": [
       "array([[1.00000000e+00, 2.02100000e+03, 6.00000000e+00, 3.41223120e+08,\n",
       "        1.18125000e+08],\n",
       "       [2.00000000e+00, 2.02100000e+03, 7.00000000e+00, 6.01125970e+07,\n",
       "        9.74222600e+07],\n",
       "       [3.00000000e+00, 2.02100000e+03, 8.00000000e+00, 6.12223290e+07,\n",
       "        3.45425010e+07],\n",
       "       [4.00000000e+00, 2.02100000e+03, 9.00000000e+00, 9.10268810e+07,\n",
       "        3.79346310e+07],\n",
       "       [5.00000000e+00, 2.02100000e+03, 1.00000000e+01, 1.76393158e+08,\n",
       "        3.35500100e+07],\n",
       "       [6.00000000e+00, 2.02100000e+03, 1.10000000e+01, 1.87556284e+08,\n",
       "        8.62060080e+07],\n",
       "       [7.00000000e+00, 2.02100000e+03, 1.20000000e+01, 7.27404090e+07,\n",
       "        6.52770090e+07],\n",
       "       [8.00000000e+00, 2.02200000e+03, 1.00000000e+00, 1.26224028e+08,\n",
       "        1.09372505e+08],\n",
       "       [9.00000000e+00, 2.02200000e+03, 2.00000000e+00, 1.31803100e+07,\n",
       "        3.28192520e+07],\n",
       "       [1.00000000e+01, 2.02200000e+03, 3.00000000e+00, 4.97142200e+07,\n",
       "        5.34400010e+07]])"
      ]
     },
     "execution_count": 4,
     "metadata": {},
     "output_type": "execute_result"
    }
   ],
   "source": [
    "data"
   ]
  },
  {
   "cell_type": "code",
   "execution_count": 5,
   "id": "4e505c26",
   "metadata": {},
   "outputs": [],
   "source": [
    "x = data[:,2]\n",
    "y = data[:,3]"
   ]
  },
  {
   "cell_type": "code",
   "execution_count": 6,
   "id": "8cc9a2c0",
   "metadata": {
    "scrolled": true
   },
   "outputs": [
    {
     "data": {
      "text/plain": [
       "Text(0, 0.5, 'giá')"
      ]
     },
     "execution_count": 6,
     "metadata": {},
     "output_type": "execute_result"
    },
    {
     "data": {
      "image/png": "[encoded data removed]",
      "text/plain": [
       "<Figure size 432x288 with 1 Axes>"
      ]
     },
     "metadata": {
      "needs_background": "light"
     },
     "output_type": "display_data"
    }
   ],
   "source": [
    "plt.scatter(x, y)\n",
    "plt.xlabel('thoi gian')\n",
    "plt.ylabel('giá')"
   ]
  },
  {
   "cell_type": "code",
   "execution_count": null,
   "id": "60444013",
   "metadata": {},
   "outputs": [],
   "source": []
  },
  {
   "cell_type": "code",
   "execution_count": null,
   "id": "91c274ac",
   "metadata": {},
   "outputs": [],
   "source": []
  },
  {
   "cell_type": "code",
   "execution_count": null,
   "id": "98f2b8df",
   "metadata": {},
   "outputs": [],
   "source": []
  }
 ],
 "metadata": {
  "kernelspec": {
   "display_name": "Python 3 (ipykernel)",
   "language": "python",
   "name": "python3"
  },
  "language_info": {
   "codemirror_mode": {
    "name": "ipython",
    "version": 3
   },
   "file_extension": ".py",
   "mimetype": "text/x-python",
   "name": "python",
   "nbconvert_exporter": "python",
   "pygments_lexer": "ipython3",
   "version": "3.9.12"
  }
 },
 "nbformat": 4,
 "nbformat_minor": 5
}
